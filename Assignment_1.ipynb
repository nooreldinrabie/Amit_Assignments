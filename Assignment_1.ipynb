{
  "cells": [
    {
      "cell_type": "markdown",
      "metadata": {
        "id": "_jSx9m-SAvly"
      },
      "source": [
        "# Assignment 1"
      ]
    },
    {
      "cell_type": "markdown",
      "metadata": {
        "collapsed": true,
        "id": "9AYviEExAvl1"
      },
      "source": [
        "## Test your knowledge. \n",
        "\n",
        "** Answer the following questions **"
      ]
    },
    {
      "cell_type": "markdown",
      "metadata": {
        "id": "HKFjRMYDAvl2"
      },
      "source": [
        "## Strings"
      ]
    },
    {
      "cell_type": "markdown",
      "metadata": {
        "id": "K4ENCp84Avl2"
      },
      "source": [
        "Given the string 'hello' give an index command that returns 'e'. Enter your code in the cell below:"
      ]
    },
    {
      "cell_type": "code",
      "execution_count": 1,
      "metadata": {
        "colab": {
          "base_uri": "https://localhost:8080/",
          "height": 36
        },
        "id": "7gCKr8j1Avl2",
        "outputId": "7fd6f7ce-bd71-48c4-d92d-575bb72ba4f0"
      },
      "outputs": [
        {
          "output_type": "execute_result",
          "data": {
            "text/plain": [
              "'e'"
            ],
            "application/vnd.google.colaboratory.intrinsic+json": {
              "type": "string"
            }
          },
          "metadata": {},
          "execution_count": 1
        }
      ],
      "source": [
        "s = 'hello'\n",
        "# Print out 'e' using indexing\n",
        "s[1]"
      ]
    },
    {
      "cell_type": "markdown",
      "metadata": {
        "id": "Vto_V9GbAvl3"
      },
      "source": [
        "Reverse the string 'hello' using slicing:"
      ]
    },
    {
      "cell_type": "code",
      "execution_count": 2,
      "metadata": {
        "colab": {
          "base_uri": "https://localhost:8080/",
          "height": 36
        },
        "id": "tb9T9gyZAvl4",
        "outputId": "0e557ced-a64b-476b-ea5f-22ac783d9f30"
      },
      "outputs": [
        {
          "output_type": "execute_result",
          "data": {
            "text/plain": [
              "'olleh'"
            ],
            "application/vnd.google.colaboratory.intrinsic+json": {
              "type": "string"
            }
          },
          "metadata": {},
          "execution_count": 2
        }
      ],
      "source": [
        "s ='hello'\n",
        "# Reverse the string using slicing\n",
        "s[::-1]"
      ]
    },
    {
      "cell_type": "markdown",
      "metadata": {
        "id": "etxMhGSdAvl4"
      },
      "source": [
        "Given the string hello, give two methods of producing the letter 'o' using indexing."
      ]
    },
    {
      "cell_type": "code",
      "execution_count": 3,
      "metadata": {
        "colab": {
          "base_uri": "https://localhost:8080/",
          "height": 36
        },
        "id": "8IyP6ngXAvl5",
        "outputId": "37582929-7e72-45ca-927e-f23eaec30800"
      },
      "outputs": [
        {
          "output_type": "execute_result",
          "data": {
            "text/plain": [
              "'o'"
            ],
            "application/vnd.google.colaboratory.intrinsic+json": {
              "type": "string"
            }
          },
          "metadata": {},
          "execution_count": 3
        }
      ],
      "source": [
        "s ='hello'\n",
        "# Print out the 'o'\n",
        "\n",
        "# Method 1:\n",
        "s[4]"
      ]
    },
    {
      "cell_type": "code",
      "execution_count": 4,
      "metadata": {
        "colab": {
          "base_uri": "https://localhost:8080/",
          "height": 36
        },
        "id": "aA7fIzyLAvl5",
        "outputId": "34d53c27-f1bf-4e54-f612-8eb655dad295"
      },
      "outputs": [
        {
          "output_type": "execute_result",
          "data": {
            "text/plain": [
              "'o'"
            ],
            "application/vnd.google.colaboratory.intrinsic+json": {
              "type": "string"
            }
          },
          "metadata": {},
          "execution_count": 4
        }
      ],
      "source": [
        "# Method 2:\n",
        "s[len(s)-1]"
      ]
    },
    {
      "cell_type": "markdown",
      "metadata": {
        "id": "jaEmyBacAvl6"
      },
      "source": [
        "## Lists"
      ]
    },
    {
      "cell_type": "markdown",
      "metadata": {
        "id": "mM7vLs-RAvl6"
      },
      "source": [
        "Build this list [0,0,0] two separate ways."
      ]
    },
    {
      "cell_type": "code",
      "execution_count": 5,
      "metadata": {
        "colab": {
          "base_uri": "https://localhost:8080/"
        },
        "id": "2-o6nSZLAvl6",
        "outputId": "cc46b870-be88-478f-f1d3-7cb95466ce14"
      },
      "outputs": [
        {
          "output_type": "execute_result",
          "data": {
            "text/plain": [
              "[0, 0, 0]"
            ]
          },
          "metadata": {},
          "execution_count": 5
        }
      ],
      "source": [
        "# Method 1:\n",
        "[0,0,0]\n"
      ]
    },
    {
      "cell_type": "code",
      "execution_count": 7,
      "metadata": {
        "colab": {
          "base_uri": "https://localhost:8080/"
        },
        "id": "6WnIUUdtAvl7",
        "outputId": "47f944b5-2bb2-481a-d1b4-d7a95b8ad792"
      },
      "outputs": [
        {
          "output_type": "execute_result",
          "data": {
            "text/plain": [
              "[0, 0, 0]"
            ]
          },
          "metadata": {},
          "execution_count": 7
        }
      ],
      "source": [
        "# Method 2:\n",
        "list([0,0,0])"
      ]
    },
    {
      "cell_type": "markdown",
      "metadata": {
        "id": "KMqJT3vUAvl7"
      },
      "source": [
        "Reassign 'hello' in this nested list to say 'goodbye' instead:"
      ]
    },
    {
      "cell_type": "code",
      "execution_count": 8,
      "metadata": {
        "colab": {
          "base_uri": "https://localhost:8080/"
        },
        "id": "KXi2wzJ3Avl7",
        "outputId": "30667d37-cdb9-4667-d64d-57759cf218dd"
      },
      "outputs": [
        {
          "output_type": "execute_result",
          "data": {
            "text/plain": [
              "[1, 2, [3, 4, 'goodbye']]"
            ]
          },
          "metadata": {},
          "execution_count": 8
        }
      ],
      "source": [
        "list3 = [1,2,[3,4,'hello']]\n",
        "\n",
        "list3[2][2]='goodbye'\n",
        "list3"
      ]
    },
    {
      "cell_type": "markdown",
      "metadata": {
        "id": "0T-FcFMjAvl8"
      },
      "source": [
        "Sort the list below:"
      ]
    },
    {
      "cell_type": "code",
      "execution_count": 11,
      "metadata": {
        "colab": {
          "base_uri": "https://localhost:8080/"
        },
        "id": "lzRdESy2Avl8",
        "outputId": "c7f3420e-8210-494d-c501-146e3cf0dcf0"
      },
      "outputs": [
        {
          "output_type": "execute_result",
          "data": {
            "text/plain": [
              "[1, 3, 4, 5, 6]"
            ]
          },
          "metadata": {},
          "execution_count": 11
        }
      ],
      "source": [
        "list4 = [5,3,4,6,1]\n",
        "list4.sort()\n",
        "list4"
      ]
    },
    {
      "cell_type": "markdown",
      "metadata": {
        "id": "-kxdq-I9Avl8"
      },
      "source": [
        "## Dictionaries"
      ]
    },
    {
      "cell_type": "markdown",
      "metadata": {
        "id": "rueCqtEFAvl9"
      },
      "source": [
        "Using keys and indexing, grab the 'hello' from the following dictionaries:"
      ]
    },
    {
      "cell_type": "code",
      "execution_count": 12,
      "metadata": {
        "colab": {
          "base_uri": "https://localhost:8080/",
          "height": 36
        },
        "id": "K2nckWLCAvl9",
        "outputId": "98c6609c-b63a-452a-e8b7-635b8a188806"
      },
      "outputs": [
        {
          "output_type": "execute_result",
          "data": {
            "text/plain": [
              "'hello'"
            ],
            "application/vnd.google.colaboratory.intrinsic+json": {
              "type": "string"
            }
          },
          "metadata": {},
          "execution_count": 12
        }
      ],
      "source": [
        "d = {'simple_key':'hello'}\n",
        "# Grab 'hello'\n",
        "d['simple_key']"
      ]
    },
    {
      "cell_type": "code",
      "execution_count": 13,
      "metadata": {
        "colab": {
          "base_uri": "https://localhost:8080/",
          "height": 36
        },
        "id": "5hv0N3R5Avl9",
        "outputId": "0cb983f1-f214-4e10-d18c-efa4ed867885"
      },
      "outputs": [
        {
          "output_type": "execute_result",
          "data": {
            "text/plain": [
              "'hello'"
            ],
            "application/vnd.google.colaboratory.intrinsic+json": {
              "type": "string"
            }
          },
          "metadata": {},
          "execution_count": 13
        }
      ],
      "source": [
        "d = {'k1':{'k2':'hello'}}\n",
        "# Grab 'hello'\n",
        "d['k1']['k2']"
      ]
    },
    {
      "cell_type": "code",
      "execution_count": 16,
      "metadata": {
        "colab": {
          "base_uri": "https://localhost:8080/",
          "height": 36
        },
        "id": "Kcrm8TFWAvl9",
        "outputId": "22d0312a-4593-4033-fc29-c0c80ad4aa8d"
      },
      "outputs": [
        {
          "output_type": "execute_result",
          "data": {
            "text/plain": [
              "'hello'"
            ],
            "application/vnd.google.colaboratory.intrinsic+json": {
              "type": "string"
            }
          },
          "metadata": {},
          "execution_count": 16
        }
      ],
      "source": [
        "d = {'k1':[{'nest_key':['this is deep',['hello']]}]}\n",
        "\n",
        "#Grab hello\n",
        "\n",
        "d['k1'][0]['nest_key'][1][0]"
      ]
    },
    {
      "cell_type": "code",
      "execution_count": 17,
      "metadata": {
        "colab": {
          "base_uri": "https://localhost:8080/",
          "height": 36
        },
        "id": "GuWcVTPdAvl-",
        "outputId": "f17a57e9-ac6f-4b84-851e-3cda6d46f34e"
      },
      "outputs": [
        {
          "output_type": "execute_result",
          "data": {
            "text/plain": [
              "'hello'"
            ],
            "application/vnd.google.colaboratory.intrinsic+json": {
              "type": "string"
            }
          },
          "metadata": {},
          "execution_count": 17
        }
      ],
      "source": [
        "d = {'k1':[1,2,{'k2':['this is tricky',{'tough':[1,2,['hello']]}]}]}\n",
        "#Grab hello\n",
        "d['k1'][2]['k2'][1]['tough'][2][0]"
      ]
    },
    {
      "cell_type": "code",
      "execution_count": null,
      "metadata": {
        "id": "xDgn_lqQAvl-"
      },
      "outputs": [],
      "source": [
        ""
      ]
    },
    {
      "cell_type": "code",
      "execution_count": null,
      "metadata": {
        "id": "T5rDyf5uAvl-"
      },
      "outputs": [],
      "source": [
        ""
      ]
    },
    {
      "cell_type": "code",
      "execution_count": null,
      "metadata": {
        "id": "o9rAmsNzAvl-"
      },
      "outputs": [],
      "source": [
        ""
      ]
    },
    {
      "cell_type": "code",
      "execution_count": null,
      "metadata": {
        "id": "DJKvbjgfAvl-"
      },
      "outputs": [],
      "source": [
        ""
      ]
    },
    {
      "cell_type": "markdown",
      "metadata": {
        "id": "yAGAPl53Avl_"
      },
      "source": [
        "** Given the variables:**\n",
        "\n",
        "    planet = \"Earth\"\n",
        "    diameter = 12742\n",
        "\n",
        "** Use .format() to print the following string: **\n",
        "\n",
        "    The diameter of Earth is 12742 kilometers."
      ]
    },
    {
      "cell_type": "code",
      "execution_count": 19,
      "metadata": {
        "colab": {
          "base_uri": "https://localhost:8080/"
        },
        "id": "nz8dmHOxAvl_",
        "outputId": "e060594e-c076-4326-9e35-8be11d2229ee"
      },
      "outputs": [
        {
          "output_type": "stream",
          "name": "stdout",
          "text": [
            "The diameter of Earth is 12742 kilometers\n"
          ]
        }
      ],
      "source": [
        "planet = \"Earth\"\n",
        "diameter = 12742\n",
        "\n",
        "print(f\"The diameter of {planet} is {diameter} kilometers\".format(planet,diameter))\n"
      ]
    },
    {
      "cell_type": "markdown",
      "metadata": {
        "id": "A_7mDH8MAvl_"
      },
      "source": [
        "** Given this nested list, use indexing to grab the word \"hello\" **"
      ]
    },
    {
      "cell_type": "code",
      "execution_count": 20,
      "metadata": {
        "colab": {
          "base_uri": "https://localhost:8080/",
          "height": 36
        },
        "id": "VlPNF98VAvl_",
        "outputId": "79e7f007-c671-4471-93cf-edbf6059976f"
      },
      "outputs": [
        {
          "output_type": "execute_result",
          "data": {
            "text/plain": [
              "'hello'"
            ],
            "application/vnd.google.colaboratory.intrinsic+json": {
              "type": "string"
            }
          },
          "metadata": {},
          "execution_count": 20
        }
      ],
      "source": [
        "lst = [1,2,[3,4],[5,[100,200,['hello']],23,11],1,7]\n",
        "lst[3][1][2][0]"
      ]
    },
    {
      "cell_type": "code",
      "execution_count": null,
      "metadata": {
        "id": "CKXgFXRbAvl_"
      },
      "outputs": [],
      "source": [
        ""
      ]
    },
    {
      "cell_type": "markdown",
      "metadata": {
        "id": "bP4znUe4AvmA"
      },
      "source": [
        "** Given this nested dictionary grab the word \"hello\". **"
      ]
    },
    {
      "cell_type": "code",
      "execution_count": 21,
      "metadata": {
        "collapsed": true,
        "colab": {
          "base_uri": "https://localhost:8080/",
          "height": 36
        },
        "id": "y-mhLvpsAvmA",
        "outputId": "b0df47ef-b0be-4f23-e0ec-f76cc637cc9c"
      },
      "outputs": [
        {
          "output_type": "execute_result",
          "data": {
            "text/plain": [
              "'hello'"
            ],
            "application/vnd.google.colaboratory.intrinsic+json": {
              "type": "string"
            }
          },
          "metadata": {},
          "execution_count": 21
        }
      ],
      "source": [
        "d = {'k1':[1,2,3,{'tricky':['oh','man','inception',{'target':[1,2,3,'hello']}]}]}\n",
        "d['k1'][3]['tricky'][3]['target'][3]"
      ]
    },
    {
      "cell_type": "code",
      "execution_count": null,
      "metadata": {
        "id": "53w65U2SAvmA"
      },
      "outputs": [],
      "source": [
        ""
      ]
    },
    {
      "cell_type": "markdown",
      "metadata": {
        "id": "e45lagx9AvmA"
      },
      "source": [
        "### Write a Python program to swap two variables.\n"
      ]
    },
    {
      "cell_type": "code",
      "execution_count": 24,
      "metadata": {
        "colab": {
          "base_uri": "https://localhost:8080/"
        },
        "id": "KilygT3UAvmA",
        "outputId": "b0aa503c-1e5e-41ba-ddc8-dfb244ad75b0"
      },
      "outputs": [
        {
          "output_type": "stream",
          "name": "stdout",
          "text": [
            "x became 9 y became 5\n"
          ]
        }
      ],
      "source": [
        "x = 5 \n",
        "y = 9\n",
        "z = x\n",
        "x = y\n",
        "y = z\n",
        "print(\"x became\",x,\"y became\",y)"
      ]
    },
    {
      "cell_type": "markdown",
      "metadata": {
        "id": "vahR3kDmAvmB"
      },
      "source": [
        "## Thanks"
      ]
    }
  ],
  "metadata": {
    "anaconda-cloud": {},
    "kernelspec": {
      "display_name": "Python 3.7.9 64-bit",
      "language": "python",
      "name": "python3"
    },
    "language_info": {
      "codemirror_mode": {
        "name": "ipython",
        "version": 3
      },
      "file_extension": ".py",
      "mimetype": "text/x-python",
      "name": "python",
      "nbconvert_exporter": "python",
      "pygments_lexer": "ipython3",
      "version": "3.7.9"
    },
    "vscode": {
      "interpreter": {
        "hash": "99887611a3b5ebbd8a07ea48bb13d66e0fa7e73358c40850c8a363e543e054a3"
      }
    },
    "colab": {
      "name": "Assignment 1.ipynb",
      "provenance": []
    }
  },
  "nbformat": 4,
  "nbformat_minor": 0
}